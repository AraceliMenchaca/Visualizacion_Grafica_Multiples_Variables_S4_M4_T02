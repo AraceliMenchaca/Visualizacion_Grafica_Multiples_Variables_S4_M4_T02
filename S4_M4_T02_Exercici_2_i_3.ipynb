{
 "cells": [
  {
   "cell_type": "markdown",
   "id": "fbc435e2",
   "metadata": {},
   "source": [
    "# Sprint 4\n",
    "\n",
    "# Tasca M4 T02\n",
    "\n",
    "## Ejercicio 2\n",
    "\n",
    "Realiza las tareas de preprocesamiento y adecuación del Dataset que se encuentra en el repositorio de GitHub PRE-PROCESSING-DATA con el objetivo de prepararlo y trabajar con él como un dataframe para extraer información.\n",
    "\n",
    "**Importante: El resultado final debe ser un dataframe con las variables de nombre de la película, año y género. ¡También es importante quedarse con un solo género para cada película!**\n",
    "\n",
    "Primero importamos todas las librerias y creamos un nuevo dataset llamado `movies`."
   ]
  },
  {
   "cell_type": "code",
   "execution_count": 37,
   "id": "e8b864fb",
   "metadata": {},
   "outputs": [],
   "source": [
    "import numpy as np\n",
    "import pandas as pd\n",
    "import matplotlib.pyplot as plt\n",
    "import seaborn as sns\n",
    "import warnings\n",
    "warnings.filterwarnings('ignore')"
   ]
  },
  {
   "cell_type": "code",
   "execution_count": 2,
   "id": "4321eba6",
   "metadata": {},
   "outputs": [
    {
     "data": {
      "text/html": [
       "<div>\n",
       "<style scoped>\n",
       "    .dataframe tbody tr th:only-of-type {\n",
       "        vertical-align: middle;\n",
       "    }\n",
       "\n",
       "    .dataframe tbody tr th {\n",
       "        vertical-align: top;\n",
       "    }\n",
       "\n",
       "    .dataframe thead th {\n",
       "        text-align: right;\n",
       "    }\n",
       "</style>\n",
       "<table border=\"1\" class=\"dataframe\">\n",
       "  <thead>\n",
       "    <tr style=\"text-align: right;\">\n",
       "      <th></th>\n",
       "      <th>ID</th>\n",
       "      <th>Titulo</th>\n",
       "      <th>Genero</th>\n",
       "    </tr>\n",
       "  </thead>\n",
       "  <tbody>\n",
       "    <tr>\n",
       "      <th>0</th>\n",
       "      <td>1</td>\n",
       "      <td>Toy Story (1995)</td>\n",
       "      <td>Animation|Children's|Comedy</td>\n",
       "    </tr>\n",
       "    <tr>\n",
       "      <th>1</th>\n",
       "      <td>2</td>\n",
       "      <td>Jumanji (1995)</td>\n",
       "      <td>Adventure|Children's|Fantasy</td>\n",
       "    </tr>\n",
       "    <tr>\n",
       "      <th>2</th>\n",
       "      <td>3</td>\n",
       "      <td>Grumpier Old Men (1995)</td>\n",
       "      <td>Comedy|Romance</td>\n",
       "    </tr>\n",
       "    <tr>\n",
       "      <th>3</th>\n",
       "      <td>4</td>\n",
       "      <td>Waiting to Exhale (1995)</td>\n",
       "      <td>Comedy|Drama</td>\n",
       "    </tr>\n",
       "    <tr>\n",
       "      <th>4</th>\n",
       "      <td>5</td>\n",
       "      <td>Father of the Bride Part II (1995)</td>\n",
       "      <td>Comedy</td>\n",
       "    </tr>\n",
       "    <tr>\n",
       "      <th>...</th>\n",
       "      <td>...</td>\n",
       "      <td>...</td>\n",
       "      <td>...</td>\n",
       "    </tr>\n",
       "    <tr>\n",
       "      <th>3878</th>\n",
       "      <td>3948</td>\n",
       "      <td>Meet the Parents (2000)</td>\n",
       "      <td>Comedy</td>\n",
       "    </tr>\n",
       "    <tr>\n",
       "      <th>3879</th>\n",
       "      <td>3949</td>\n",
       "      <td>Requiem for a Dream (2000)</td>\n",
       "      <td>Drama</td>\n",
       "    </tr>\n",
       "    <tr>\n",
       "      <th>3880</th>\n",
       "      <td>3950</td>\n",
       "      <td>Tigerland (2000)</td>\n",
       "      <td>Drama</td>\n",
       "    </tr>\n",
       "    <tr>\n",
       "      <th>3881</th>\n",
       "      <td>3951</td>\n",
       "      <td>Two Family House (2000)</td>\n",
       "      <td>Drama</td>\n",
       "    </tr>\n",
       "    <tr>\n",
       "      <th>3882</th>\n",
       "      <td>3952</td>\n",
       "      <td>Contender, The (2000)</td>\n",
       "      <td>Drama|Thriller</td>\n",
       "    </tr>\n",
       "  </tbody>\n",
       "</table>\n",
       "<p>3883 rows × 3 columns</p>\n",
       "</div>"
      ],
      "text/plain": [
       "        ID                              Titulo                        Genero\n",
       "0        1                    Toy Story (1995)   Animation|Children's|Comedy\n",
       "1        2                      Jumanji (1995)  Adventure|Children's|Fantasy\n",
       "2        3             Grumpier Old Men (1995)                Comedy|Romance\n",
       "3        4            Waiting to Exhale (1995)                  Comedy|Drama\n",
       "4        5  Father of the Bride Part II (1995)                        Comedy\n",
       "...    ...                                 ...                           ...\n",
       "3878  3948             Meet the Parents (2000)                        Comedy\n",
       "3879  3949          Requiem for a Dream (2000)                         Drama\n",
       "3880  3950                    Tigerland (2000)                         Drama\n",
       "3881  3951             Two Family House (2000)                         Drama\n",
       "3882  3952               Contender, The (2000)                Drama|Thriller\n",
       "\n",
       "[3883 rows x 3 columns]"
      ]
     },
     "execution_count": 2,
     "metadata": {},
     "output_type": "execute_result"
    }
   ],
   "source": [
    "movies = pd.read_csv('movies.dat', sep='::', encoding='latin1', engine='python', header=None, names=['ID', 'Titulo', 'Genero'])\n",
    "movies"
   ]
  },
  {
   "cell_type": "markdown",
   "id": "3025e1b6",
   "metadata": {},
   "source": [
    "Despues, creamos dos columnas nuevas `Nombre` y `Año` dividiendo la columna `Titulo`.  También se cambia la columna de `Genero` para que solo exista un sólo género por película. Finalmente se eliminan las columnas de `Titulo` y `ID` para tener el dataset listo para su análisis."
   ]
  },
  {
   "cell_type": "code",
   "execution_count": 3,
   "id": "24f377fb",
   "metadata": {},
   "outputs": [
    {
     "data": {
      "text/html": [
       "<div>\n",
       "<style scoped>\n",
       "    .dataframe tbody tr th:only-of-type {\n",
       "        vertical-align: middle;\n",
       "    }\n",
       "\n",
       "    .dataframe tbody tr th {\n",
       "        vertical-align: top;\n",
       "    }\n",
       "\n",
       "    .dataframe thead th {\n",
       "        text-align: right;\n",
       "    }\n",
       "</style>\n",
       "<table border=\"1\" class=\"dataframe\">\n",
       "  <thead>\n",
       "    <tr style=\"text-align: right;\">\n",
       "      <th></th>\n",
       "      <th>Nombre</th>\n",
       "      <th>Año</th>\n",
       "      <th>Genero</th>\n",
       "    </tr>\n",
       "  </thead>\n",
       "  <tbody>\n",
       "    <tr>\n",
       "      <th>0</th>\n",
       "      <td>Toy Story</td>\n",
       "      <td>1995</td>\n",
       "      <td>Animation</td>\n",
       "    </tr>\n",
       "    <tr>\n",
       "      <th>1</th>\n",
       "      <td>Jumanji</td>\n",
       "      <td>1995</td>\n",
       "      <td>Adventure</td>\n",
       "    </tr>\n",
       "    <tr>\n",
       "      <th>2</th>\n",
       "      <td>Grumpier Old Men</td>\n",
       "      <td>1995</td>\n",
       "      <td>Comedy</td>\n",
       "    </tr>\n",
       "    <tr>\n",
       "      <th>3</th>\n",
       "      <td>Waiting to Exhale</td>\n",
       "      <td>1995</td>\n",
       "      <td>Comedy</td>\n",
       "    </tr>\n",
       "    <tr>\n",
       "      <th>4</th>\n",
       "      <td>Father of the Bride Part II</td>\n",
       "      <td>1995</td>\n",
       "      <td>Comedy</td>\n",
       "    </tr>\n",
       "    <tr>\n",
       "      <th>...</th>\n",
       "      <td>...</td>\n",
       "      <td>...</td>\n",
       "      <td>...</td>\n",
       "    </tr>\n",
       "    <tr>\n",
       "      <th>3878</th>\n",
       "      <td>Meet the Parents</td>\n",
       "      <td>2000</td>\n",
       "      <td>Comedy</td>\n",
       "    </tr>\n",
       "    <tr>\n",
       "      <th>3879</th>\n",
       "      <td>Requiem for a Dream</td>\n",
       "      <td>2000</td>\n",
       "      <td>Drama</td>\n",
       "    </tr>\n",
       "    <tr>\n",
       "      <th>3880</th>\n",
       "      <td>Tigerland</td>\n",
       "      <td>2000</td>\n",
       "      <td>Drama</td>\n",
       "    </tr>\n",
       "    <tr>\n",
       "      <th>3881</th>\n",
       "      <td>Two Family House</td>\n",
       "      <td>2000</td>\n",
       "      <td>Drama</td>\n",
       "    </tr>\n",
       "    <tr>\n",
       "      <th>3882</th>\n",
       "      <td>Contender, The</td>\n",
       "      <td>2000</td>\n",
       "      <td>Drama</td>\n",
       "    </tr>\n",
       "  </tbody>\n",
       "</table>\n",
       "<p>3883 rows × 3 columns</p>\n",
       "</div>"
      ],
      "text/plain": [
       "                           Nombre   Año     Genero\n",
       "0                       Toy Story  1995  Animation\n",
       "1                         Jumanji  1995  Adventure\n",
       "2                Grumpier Old Men  1995     Comedy\n",
       "3               Waiting to Exhale  1995     Comedy\n",
       "4     Father of the Bride Part II  1995     Comedy\n",
       "...                           ...   ...        ...\n",
       "3878             Meet the Parents  2000     Comedy\n",
       "3879          Requiem for a Dream  2000      Drama\n",
       "3880                    Tigerland  2000      Drama\n",
       "3881             Two Family House  2000      Drama\n",
       "3882               Contender, The  2000      Drama\n",
       "\n",
       "[3883 rows x 3 columns]"
      ]
     },
     "execution_count": 3,
     "metadata": {},
     "output_type": "execute_result"
    }
   ],
   "source": [
    "movies[['Nombre', 'Año']] = movies['Titulo'].str.extract('(.*?)\\s\\((\\d+)\\)', expand=True)\n",
    "movies['Genero'] = movies['Genero'].str.extract('^(\\w+)')\n",
    "movies = movies.drop('Titulo', axis=1)\n",
    "movies = movies.drop('ID', axis=1)\n",
    "movies = movies.reindex(columns=['Nombre', 'Año', 'Genero'])\n",
    "movies"
   ]
  },
  {
   "cell_type": "markdown",
   "id": "ef98408d",
   "metadata": {},
   "source": [
    "Para conocer el dataset, se usa `.info()` pues nos da toda la información resumida de número de columnas, filas y dtypes.  También se revisa si hay algún dato nulo o vacío."
   ]
  },
  {
   "cell_type": "code",
   "execution_count": 4,
   "id": "5a9e541b",
   "metadata": {},
   "outputs": [
    {
     "name": "stdout",
     "output_type": "stream",
     "text": [
      "<class 'pandas.core.frame.DataFrame'>\n",
      "RangeIndex: 3883 entries, 0 to 3882\n",
      "Data columns (total 3 columns):\n",
      " #   Column  Non-Null Count  Dtype \n",
      "---  ------  --------------  ----- \n",
      " 0   Nombre  3882 non-null   object\n",
      " 1   Año     3882 non-null   object\n",
      " 2   Genero  3883 non-null   object\n",
      "dtypes: object(3)\n",
      "memory usage: 91.1+ KB\n"
     ]
    }
   ],
   "source": [
    "movies.info()"
   ]
  },
  {
   "cell_type": "code",
   "execution_count": 5,
   "id": "507e1ea9",
   "metadata": {},
   "outputs": [
    {
     "data": {
      "text/plain": [
       "Nombre    1\n",
       "Año       1\n",
       "Genero    0\n",
       "dtype: int64"
      ]
     },
     "execution_count": 5,
     "metadata": {},
     "output_type": "execute_result"
    }
   ],
   "source": [
    "movies.isnull().sum()"
   ]
  },
  {
   "cell_type": "code",
   "execution_count": 6,
   "id": "fce5a4a7",
   "metadata": {},
   "outputs": [
    {
     "data": {
      "text/html": [
       "<div>\n",
       "<style scoped>\n",
       "    .dataframe tbody tr th:only-of-type {\n",
       "        vertical-align: middle;\n",
       "    }\n",
       "\n",
       "    .dataframe tbody tr th {\n",
       "        vertical-align: top;\n",
       "    }\n",
       "\n",
       "    .dataframe thead th {\n",
       "        text-align: right;\n",
       "    }\n",
       "</style>\n",
       "<table border=\"1\" class=\"dataframe\">\n",
       "  <thead>\n",
       "    <tr style=\"text-align: right;\">\n",
       "      <th></th>\n",
       "      <th>Nombre</th>\n",
       "      <th>Año</th>\n",
       "      <th>Genero</th>\n",
       "    </tr>\n",
       "  </thead>\n",
       "  <tbody>\n",
       "    <tr>\n",
       "      <th>988</th>\n",
       "      <td>NaN</td>\n",
       "      <td>NaN</td>\n",
       "      <td>Comedy</td>\n",
       "    </tr>\n",
       "  </tbody>\n",
       "</table>\n",
       "</div>"
      ],
      "text/plain": [
       "    Nombre  Año  Genero\n",
       "988    NaN  NaN  Comedy"
      ]
     },
     "execution_count": 6,
     "metadata": {},
     "output_type": "execute_result"
    }
   ],
   "source": [
    "movies[pd.isnull(movies['Nombre'])]"
   ]
  },
  {
   "cell_type": "code",
   "execution_count": 7,
   "id": "bdc20390",
   "metadata": {},
   "outputs": [
    {
     "data": {
      "text/plain": [
       "Nombre    0\n",
       "Año       0\n",
       "Genero    0\n",
       "dtype: int64"
      ]
     },
     "execution_count": 7,
     "metadata": {},
     "output_type": "execute_result"
    }
   ],
   "source": [
    "movies = movies.dropna(subset=['Nombre', 'Año'])\n",
    "movies.isna().sum()"
   ]
  },
  {
   "cell_type": "markdown",
   "id": "3266580c",
   "metadata": {},
   "source": [
    "Se encontraron datos vacíos por lo que se procedio a buscarlos y al estar en la misma fila, se borraron pues no afectan en nada al dataset.\n",
    "\n",
    "Finalmente, se cambia el dtype de la columna de `Año`."
   ]
  },
  {
   "cell_type": "code",
   "execution_count": 10,
   "id": "7fc78d0f",
   "metadata": {},
   "outputs": [
    {
     "name": "stdout",
     "output_type": "stream",
     "text": [
      "<class 'pandas.core.frame.DataFrame'>\n",
      "Int64Index: 3882 entries, 0 to 3882\n",
      "Data columns (total 3 columns):\n",
      " #   Column  Non-Null Count  Dtype \n",
      "---  ------  --------------  ----- \n",
      " 0   Nombre  3882 non-null   object\n",
      " 1   Año     3882 non-null   int64 \n",
      " 2   Genero  3882 non-null   object\n",
      "dtypes: int64(1), object(2)\n",
      "memory usage: 121.3+ KB\n"
     ]
    }
   ],
   "source": [
    "movies.loc[:, 'Año'] = movies['Año'].astype(int)\n",
    "movies['Año'] = pd.to_datetime(movies['Año'], format='%Y')\n",
    "movies['Año'] = movies['Año'].dt.year\n",
    "movies.info()"
   ]
  },
  {
   "cell_type": "markdown",
   "id": "80600b74",
   "metadata": {},
   "source": [
    "Una vez listo el dataframe, procedemos a explorar los datos."
   ]
  },
  {
   "cell_type": "code",
   "execution_count": 14,
   "id": "532cda72",
   "metadata": {},
   "outputs": [
    {
     "data": {
      "text/plain": [
       "Hamlet                    5\n",
       "Mummy, The                3\n",
       "Psycho                    2\n",
       "End of the Affair, The    2\n",
       "Village of the Damned     2\n",
       "                         ..\n",
       "Paris Was a Woman         1\n",
       "Anna                      1\n",
       "I'm Not Rappaport         1\n",
       "Blue Juice                1\n",
       "Contender, The            1\n",
       "Name: Nombre, Length: 3840, dtype: int64"
      ]
     },
     "execution_count": 14,
     "metadata": {},
     "output_type": "execute_result"
    }
   ],
   "source": [
    "movies['Nombre'].value_counts()"
   ]
  },
  {
   "cell_type": "code",
   "execution_count": 15,
   "id": "121f5a4d",
   "metadata": {},
   "outputs": [
    {
     "data": {
      "text/html": [
       "<div>\n",
       "<style scoped>\n",
       "    .dataframe tbody tr th:only-of-type {\n",
       "        vertical-align: middle;\n",
       "    }\n",
       "\n",
       "    .dataframe tbody tr th {\n",
       "        vertical-align: top;\n",
       "    }\n",
       "\n",
       "    .dataframe thead th {\n",
       "        text-align: right;\n",
       "    }\n",
       "</style>\n",
       "<table border=\"1\" class=\"dataframe\">\n",
       "  <thead>\n",
       "    <tr style=\"text-align: right;\">\n",
       "      <th></th>\n",
       "      <th>Nombre</th>\n",
       "      <th>Año</th>\n",
       "      <th>Genero</th>\n",
       "    </tr>\n",
       "  </thead>\n",
       "  <tbody>\n",
       "    <tr>\n",
       "      <th>1388</th>\n",
       "      <td>Hamlet</td>\n",
       "      <td>1996</td>\n",
       "      <td>Drama</td>\n",
       "    </tr>\n",
       "    <tr>\n",
       "      <th>1872</th>\n",
       "      <td>Hamlet</td>\n",
       "      <td>1948</td>\n",
       "      <td>Drama</td>\n",
       "    </tr>\n",
       "    <tr>\n",
       "      <th>2751</th>\n",
       "      <td>Hamlet</td>\n",
       "      <td>1964</td>\n",
       "      <td>Drama</td>\n",
       "    </tr>\n",
       "    <tr>\n",
       "      <th>3529</th>\n",
       "      <td>Hamlet</td>\n",
       "      <td>2000</td>\n",
       "      <td>Drama</td>\n",
       "    </tr>\n",
       "    <tr>\n",
       "      <th>3654</th>\n",
       "      <td>Hamlet</td>\n",
       "      <td>1990</td>\n",
       "      <td>Drama</td>\n",
       "    </tr>\n",
       "  </tbody>\n",
       "</table>\n",
       "</div>"
      ],
      "text/plain": [
       "      Nombre   Año Genero\n",
       "1388  Hamlet  1996  Drama\n",
       "1872  Hamlet  1948  Drama\n",
       "2751  Hamlet  1964  Drama\n",
       "3529  Hamlet  2000  Drama\n",
       "3654  Hamlet  1990  Drama"
      ]
     },
     "execution_count": 15,
     "metadata": {},
     "output_type": "execute_result"
    }
   ],
   "source": [
    "movies.loc[movies['Nombre'] == 'Hamlet']"
   ]
  },
  {
   "cell_type": "code",
   "execution_count": 16,
   "id": "96dc0c47",
   "metadata": {},
   "outputs": [
    {
     "data": {
      "text/plain": [
       "array(['Toy Story', 'Jumanji', 'Grumpier Old Men', ..., 'Tigerland',\n",
       "       'Two Family House', 'Contender, The'], dtype=object)"
      ]
     },
     "execution_count": 16,
     "metadata": {},
     "output_type": "execute_result"
    }
   ],
   "source": [
    "movies.Nombre.unique()"
   ]
  },
  {
   "cell_type": "code",
   "execution_count": 17,
   "id": "8967d3ce",
   "metadata": {},
   "outputs": [
    {
     "data": {
      "text/plain": [
       "3840"
      ]
     },
     "execution_count": 17,
     "metadata": {},
     "output_type": "execute_result"
    }
   ],
   "source": [
    "movies.Nombre.nunique()"
   ]
  },
  {
   "cell_type": "code",
   "execution_count": 18,
   "id": "9dae1562",
   "metadata": {},
   "outputs": [
    {
     "data": {
      "text/plain": [
       "(3882, 3)"
      ]
     },
     "execution_count": 18,
     "metadata": {},
     "output_type": "execute_result"
    }
   ],
   "source": [
    "movies.shape"
   ]
  },
  {
   "cell_type": "code",
   "execution_count": 19,
   "id": "74c9b528",
   "metadata": {},
   "outputs": [
    {
     "data": {
      "text/plain": [
       "81"
      ]
     },
     "execution_count": 19,
     "metadata": {},
     "output_type": "execute_result"
    }
   ],
   "source": [
    "movies.Año.nunique()"
   ]
  },
  {
   "cell_type": "code",
   "execution_count": 20,
   "id": "b3ae2d32",
   "metadata": {},
   "outputs": [
    {
     "data": {
      "text/plain": [
       "array([1919, 1920, 1921, 1922, 1923, 1925, 1926, 1927, 1928, 1929, 1930,\n",
       "       1931, 1932, 1933, 1934, 1935, 1936, 1937, 1938, 1939, 1940, 1941,\n",
       "       1942, 1943, 1944, 1945, 1946, 1947, 1948, 1949, 1950, 1951, 1952,\n",
       "       1953, 1954, 1955, 1956, 1957, 1958, 1959, 1960, 1961, 1962, 1963,\n",
       "       1964, 1965, 1966, 1967, 1968, 1969, 1970, 1971, 1972, 1973, 1974,\n",
       "       1975, 1976, 1977, 1978, 1979, 1980, 1981, 1982, 1983, 1984, 1985,\n",
       "       1986, 1987, 1988, 1989, 1990, 1991, 1992, 1993, 1994, 1995, 1996,\n",
       "       1997, 1998, 1999, 2000], dtype=int64)"
      ]
     },
     "execution_count": 20,
     "metadata": {},
     "output_type": "execute_result"
    }
   ],
   "source": [
    "movies['Año'].sort_values(ascending=True).unique()"
   ]
  },
  {
   "cell_type": "code",
   "execution_count": 22,
   "id": "cbaf0605",
   "metadata": {},
   "outputs": [
    {
     "data": {
      "text/plain": [
       "301"
      ]
     },
     "execution_count": 22,
     "metadata": {},
     "output_type": "execute_result"
    }
   ],
   "source": [
    "movies.Genero.nunique()"
   ]
  },
  {
   "cell_type": "code",
   "execution_count": 51,
   "id": "b45a91e4",
   "metadata": {},
   "outputs": [
    {
     "data": {
      "text/plain": [
       "Drama          1176\n",
       "Comedy         1023\n",
       "Action          503\n",
       "Horror          262\n",
       "Adventure       155\n",
       "Crime           131\n",
       "Documentary     123\n",
       "Thriller        101\n",
       "Animation        90\n",
       "Children         89\n",
       "Romance          50\n",
       "Sci              46\n",
       "Mystery          36\n",
       "Western          33\n",
       "Film             25\n",
       "Musical          25\n",
       "War              12\n",
       "Fantasy           2\n",
       "Name: Genero, dtype: int64"
      ]
     },
     "execution_count": 51,
     "metadata": {},
     "output_type": "execute_result"
    }
   ],
   "source": [
    "movies.Genero.value_counts()"
   ]
  },
  {
   "cell_type": "code",
   "execution_count": 91,
   "id": "9b687455",
   "metadata": {},
   "outputs": [
    {
     "data": {
      "text/html": [
       "<div>\n",
       "<style scoped>\n",
       "    .dataframe tbody tr th:only-of-type {\n",
       "        vertical-align: middle;\n",
       "    }\n",
       "\n",
       "    .dataframe tbody tr th {\n",
       "        vertical-align: top;\n",
       "    }\n",
       "\n",
       "    .dataframe thead th {\n",
       "        text-align: right;\n",
       "    }\n",
       "</style>\n",
       "<table border=\"1\" class=\"dataframe\">\n",
       "  <thead>\n",
       "    <tr style=\"text-align: right;\">\n",
       "      <th></th>\n",
       "      <th></th>\n",
       "      <th></th>\n",
       "      <th>0</th>\n",
       "    </tr>\n",
       "    <tr>\n",
       "      <th>Nombre</th>\n",
       "      <th>Año</th>\n",
       "      <th>Genero</th>\n",
       "      <th></th>\n",
       "    </tr>\n",
       "  </thead>\n",
       "  <tbody>\n",
       "    <tr>\n",
       "      <th>20,000 Leagues Under the Sea</th>\n",
       "      <th>1954</th>\n",
       "      <th>Adventure</th>\n",
       "      <td>1</td>\n",
       "    </tr>\n",
       "    <tr>\n",
       "      <th>NeverEnding Story II: The Next Chapter, The</th>\n",
       "      <th>1990</th>\n",
       "      <th>Adventure</th>\n",
       "      <td>1</td>\n",
       "    </tr>\n",
       "    <tr>\n",
       "      <th>Mighty Joe Young</th>\n",
       "      <th>1998</th>\n",
       "      <th>Adventure</th>\n",
       "      <td>1</td>\n",
       "    </tr>\n",
       "    <tr>\n",
       "      <th>Mighty Peking Man (Hsing hsing wang)</th>\n",
       "      <th>1977</th>\n",
       "      <th>Adventure</th>\n",
       "      <td>1</td>\n",
       "    </tr>\n",
       "    <tr>\n",
       "      <th>Muppet Treasure Island</th>\n",
       "      <th>1996</th>\n",
       "      <th>Adventure</th>\n",
       "      <td>1</td>\n",
       "    </tr>\n",
       "    <tr>\n",
       "      <th>...</th>\n",
       "      <th>...</th>\n",
       "      <th>...</th>\n",
       "      <td>...</td>\n",
       "    </tr>\n",
       "    <tr>\n",
       "      <th>Fly Away Home</th>\n",
       "      <th>1996</th>\n",
       "      <th>Adventure</th>\n",
       "      <td>1</td>\n",
       "    </tr>\n",
       "    <tr>\n",
       "      <th>For Whom the Bell Tolls</th>\n",
       "      <th>1943</th>\n",
       "      <th>Adventure</th>\n",
       "      <td>1</td>\n",
       "    </tr>\n",
       "    <tr>\n",
       "      <th>For the Love of Benji</th>\n",
       "      <th>1977</th>\n",
       "      <th>Adventure</th>\n",
       "      <td>1</td>\n",
       "    </tr>\n",
       "    <tr>\n",
       "      <th>Forever Young</th>\n",
       "      <th>1992</th>\n",
       "      <th>Adventure</th>\n",
       "      <td>1</td>\n",
       "    </tr>\n",
       "    <tr>\n",
       "      <th>Wizard of Oz, The</th>\n",
       "      <th>1939</th>\n",
       "      <th>Adventure</th>\n",
       "      <td>1</td>\n",
       "    </tr>\n",
       "  </tbody>\n",
       "</table>\n",
       "<p>155 rows × 1 columns</p>\n",
       "</div>"
      ],
      "text/plain": [
       "                                                            0\n",
       "Nombre                                      Año  Genero      \n",
       "20,000 Leagues Under the Sea                1954 Adventure  1\n",
       "NeverEnding Story II: The Next Chapter, The 1990 Adventure  1\n",
       "Mighty Joe Young                            1998 Adventure  1\n",
       "Mighty Peking Man (Hsing hsing wang)        1977 Adventure  1\n",
       "Muppet Treasure Island                      1996 Adventure  1\n",
       "...                                                        ..\n",
       "Fly Away Home                               1996 Adventure  1\n",
       "For Whom the Bell Tolls                     1943 Adventure  1\n",
       "For the Love of Benji                       1977 Adventure  1\n",
       "Forever Young                               1992 Adventure  1\n",
       "Wizard of Oz, The                           1939 Adventure  1\n",
       "\n",
       "[155 rows x 1 columns]"
      ]
     },
     "execution_count": 91,
     "metadata": {},
     "output_type": "execute_result"
    }
   ],
   "source": [
    "adventure = pd.DataFrame(movies[movies['Genero'] == 'Adventure'].value_counts())\n",
    "adventure"
   ]
  },
  {
   "cell_type": "code",
   "execution_count": 88,
   "id": "6fd491cb",
   "metadata": {},
   "outputs": [
    {
     "data": {
      "text/html": [
       "<div>\n",
       "<style scoped>\n",
       "    .dataframe tbody tr th:only-of-type {\n",
       "        vertical-align: middle;\n",
       "    }\n",
       "\n",
       "    .dataframe tbody tr th {\n",
       "        vertical-align: top;\n",
       "    }\n",
       "\n",
       "    .dataframe thead th {\n",
       "        text-align: right;\n",
       "    }\n",
       "</style>\n",
       "<table border=\"1\" class=\"dataframe\">\n",
       "  <thead>\n",
       "    <tr style=\"text-align: right;\">\n",
       "      <th></th>\n",
       "      <th>Año</th>\n",
       "      <th>Genero</th>\n",
       "      <th>Numero de peliculas</th>\n",
       "    </tr>\n",
       "  </thead>\n",
       "  <tbody>\n",
       "    <tr>\n",
       "      <th>0</th>\n",
       "      <td>1919</td>\n",
       "      <td>Action</td>\n",
       "      <td>1</td>\n",
       "    </tr>\n",
       "    <tr>\n",
       "      <th>1</th>\n",
       "      <td>1919</td>\n",
       "      <td>Adventure</td>\n",
       "      <td>1</td>\n",
       "    </tr>\n",
       "    <tr>\n",
       "      <th>2</th>\n",
       "      <td>1919</td>\n",
       "      <td>Comedy</td>\n",
       "      <td>1</td>\n",
       "    </tr>\n",
       "    <tr>\n",
       "      <th>3</th>\n",
       "      <td>1920</td>\n",
       "      <td>Comedy</td>\n",
       "      <td>2</td>\n",
       "    </tr>\n",
       "    <tr>\n",
       "      <th>4</th>\n",
       "      <td>1921</td>\n",
       "      <td>Action</td>\n",
       "      <td>1</td>\n",
       "    </tr>\n",
       "    <tr>\n",
       "      <th>...</th>\n",
       "      <td>...</td>\n",
       "      <td>...</td>\n",
       "      <td>...</td>\n",
       "    </tr>\n",
       "    <tr>\n",
       "      <th>618</th>\n",
       "      <td>2000</td>\n",
       "      <td>Drama</td>\n",
       "      <td>36</td>\n",
       "    </tr>\n",
       "    <tr>\n",
       "      <th>619</th>\n",
       "      <td>2000</td>\n",
       "      <td>Horror</td>\n",
       "      <td>4</td>\n",
       "    </tr>\n",
       "    <tr>\n",
       "      <th>620</th>\n",
       "      <td>2000</td>\n",
       "      <td>Romance</td>\n",
       "      <td>1</td>\n",
       "    </tr>\n",
       "    <tr>\n",
       "      <th>621</th>\n",
       "      <td>2000</td>\n",
       "      <td>Sci</td>\n",
       "      <td>2</td>\n",
       "    </tr>\n",
       "    <tr>\n",
       "      <th>622</th>\n",
       "      <td>2000</td>\n",
       "      <td>Thriller</td>\n",
       "      <td>6</td>\n",
       "    </tr>\n",
       "  </tbody>\n",
       "</table>\n",
       "<p>623 rows × 3 columns</p>\n",
       "</div>"
      ],
      "text/plain": [
       "      Año     Genero  Numero de peliculas\n",
       "0    1919     Action                    1\n",
       "1    1919  Adventure                    1\n",
       "2    1919     Comedy                    1\n",
       "3    1920     Comedy                    2\n",
       "4    1921     Action                    1\n",
       "..    ...        ...                  ...\n",
       "618  2000      Drama                   36\n",
       "619  2000     Horror                    4\n",
       "620  2000    Romance                    1\n",
       "621  2000        Sci                    2\n",
       "622  2000   Thriller                    6\n",
       "\n",
       "[623 rows x 3 columns]"
      ]
     },
     "execution_count": 88,
     "metadata": {},
     "output_type": "execute_result"
    }
   ],
   "source": [
    "movies_año = movies.groupby(['Año', 'Genero'])['Nombre'].count().reset_index().rename(columns={'Nombre': 'Numero de peliculas'})\n",
    "movies_año"
   ]
  },
  {
   "cell_type": "code",
   "execution_count": 120,
   "id": "64b96c10",
   "metadata": {},
   "outputs": [
    {
     "data": {
      "text/html": [
       "<div>\n",
       "<style scoped>\n",
       "    .dataframe tbody tr th:only-of-type {\n",
       "        vertical-align: middle;\n",
       "    }\n",
       "\n",
       "    .dataframe tbody tr th {\n",
       "        vertical-align: top;\n",
       "    }\n",
       "\n",
       "    .dataframe thead th {\n",
       "        text-align: right;\n",
       "    }\n",
       "</style>\n",
       "<table border=\"1\" class=\"dataframe\">\n",
       "  <thead>\n",
       "    <tr style=\"text-align: right;\">\n",
       "      <th></th>\n",
       "      <th>Nombre</th>\n",
       "      <th>Año</th>\n",
       "      <th>Genero</th>\n",
       "    </tr>\n",
       "  </thead>\n",
       "  <tbody>\n",
       "    <tr>\n",
       "      <th>0</th>\n",
       "      <td>Toy Story</td>\n",
       "      <td>1995</td>\n",
       "      <td>Animation</td>\n",
       "    </tr>\n",
       "    <tr>\n",
       "      <th>1</th>\n",
       "      <td>Jumanji</td>\n",
       "      <td>1995</td>\n",
       "      <td>Adventure</td>\n",
       "    </tr>\n",
       "    <tr>\n",
       "      <th>2</th>\n",
       "      <td>Grumpier Old Men</td>\n",
       "      <td>1995</td>\n",
       "      <td>Comedy</td>\n",
       "    </tr>\n",
       "    <tr>\n",
       "      <th>3</th>\n",
       "      <td>Waiting to Exhale</td>\n",
       "      <td>1995</td>\n",
       "      <td>Comedy</td>\n",
       "    </tr>\n",
       "    <tr>\n",
       "      <th>4</th>\n",
       "      <td>Father of the Bride Part II</td>\n",
       "      <td>1995</td>\n",
       "      <td>Comedy</td>\n",
       "    </tr>\n",
       "    <tr>\n",
       "      <th>...</th>\n",
       "      <td>...</td>\n",
       "      <td>...</td>\n",
       "      <td>...</td>\n",
       "    </tr>\n",
       "    <tr>\n",
       "      <th>3878</th>\n",
       "      <td>Meet the Parents</td>\n",
       "      <td>2000</td>\n",
       "      <td>Comedy</td>\n",
       "    </tr>\n",
       "    <tr>\n",
       "      <th>3879</th>\n",
       "      <td>Requiem for a Dream</td>\n",
       "      <td>2000</td>\n",
       "      <td>Drama</td>\n",
       "    </tr>\n",
       "    <tr>\n",
       "      <th>3880</th>\n",
       "      <td>Tigerland</td>\n",
       "      <td>2000</td>\n",
       "      <td>Drama</td>\n",
       "    </tr>\n",
       "    <tr>\n",
       "      <th>3881</th>\n",
       "      <td>Two Family House</td>\n",
       "      <td>2000</td>\n",
       "      <td>Drama</td>\n",
       "    </tr>\n",
       "    <tr>\n",
       "      <th>3882</th>\n",
       "      <td>Contender, The</td>\n",
       "      <td>2000</td>\n",
       "      <td>Drama</td>\n",
       "    </tr>\n",
       "  </tbody>\n",
       "</table>\n",
       "<p>2439 rows × 3 columns</p>\n",
       "</div>"
      ],
      "text/plain": [
       "                           Nombre   Año     Genero\n",
       "0                       Toy Story  1995  Animation\n",
       "1                         Jumanji  1995  Adventure\n",
       "2                Grumpier Old Men  1995     Comedy\n",
       "3               Waiting to Exhale  1995     Comedy\n",
       "4     Father of the Bride Part II  1995     Comedy\n",
       "...                           ...   ...        ...\n",
       "3878             Meet the Parents  2000     Comedy\n",
       "3879          Requiem for a Dream  2000      Drama\n",
       "3880                    Tigerland  2000      Drama\n",
       "3881             Two Family House  2000      Drama\n",
       "3882               Contender, The  2000      Drama\n",
       "\n",
       "[2439 rows x 3 columns]"
      ]
     },
     "execution_count": 120,
     "metadata": {},
     "output_type": "execute_result"
    }
   ],
   "source": [
    "movies_noventas = movies.query(\"(Año >= 1990 & Año <= 2000)\")\n",
    "movies_noventas"
   ]
  },
  {
   "cell_type": "code",
   "execution_count": 116,
   "id": "caacb23a",
   "metadata": {},
   "outputs": [
    {
     "data": {
      "text/html": [
       "<div>\n",
       "<style scoped>\n",
       "    .dataframe tbody tr th:only-of-type {\n",
       "        vertical-align: middle;\n",
       "    }\n",
       "\n",
       "    .dataframe tbody tr th {\n",
       "        vertical-align: top;\n",
       "    }\n",
       "\n",
       "    .dataframe thead th {\n",
       "        text-align: right;\n",
       "    }\n",
       "</style>\n",
       "<table border=\"1\" class=\"dataframe\">\n",
       "  <thead>\n",
       "    <tr style=\"text-align: right;\">\n",
       "      <th></th>\n",
       "      <th>Año</th>\n",
       "      <th>Genero</th>\n",
       "      <th>Numero de peliculas</th>\n",
       "    </tr>\n",
       "  </thead>\n",
       "  <tbody>\n",
       "    <tr>\n",
       "      <th>0</th>\n",
       "      <td>1990</td>\n",
       "      <td>Action</td>\n",
       "      <td>19</td>\n",
       "    </tr>\n",
       "    <tr>\n",
       "      <th>1</th>\n",
       "      <td>1990</td>\n",
       "      <td>Adventure</td>\n",
       "      <td>2</td>\n",
       "    </tr>\n",
       "    <tr>\n",
       "      <th>2</th>\n",
       "      <td>1990</td>\n",
       "      <td>Animation</td>\n",
       "      <td>2</td>\n",
       "    </tr>\n",
       "    <tr>\n",
       "      <th>3</th>\n",
       "      <td>1990</td>\n",
       "      <td>Children</td>\n",
       "      <td>1</td>\n",
       "    </tr>\n",
       "    <tr>\n",
       "      <th>4</th>\n",
       "      <td>1990</td>\n",
       "      <td>Comedy</td>\n",
       "      <td>15</td>\n",
       "    </tr>\n",
       "    <tr>\n",
       "      <th>...</th>\n",
       "      <td>...</td>\n",
       "      <td>...</td>\n",
       "      <td>...</td>\n",
       "    </tr>\n",
       "    <tr>\n",
       "      <th>137</th>\n",
       "      <td>2000</td>\n",
       "      <td>Drama</td>\n",
       "      <td>36</td>\n",
       "    </tr>\n",
       "    <tr>\n",
       "      <th>138</th>\n",
       "      <td>2000</td>\n",
       "      <td>Horror</td>\n",
       "      <td>4</td>\n",
       "    </tr>\n",
       "    <tr>\n",
       "      <th>139</th>\n",
       "      <td>2000</td>\n",
       "      <td>Romance</td>\n",
       "      <td>1</td>\n",
       "    </tr>\n",
       "    <tr>\n",
       "      <th>140</th>\n",
       "      <td>2000</td>\n",
       "      <td>Sci</td>\n",
       "      <td>2</td>\n",
       "    </tr>\n",
       "    <tr>\n",
       "      <th>141</th>\n",
       "      <td>2000</td>\n",
       "      <td>Thriller</td>\n",
       "      <td>6</td>\n",
       "    </tr>\n",
       "  </tbody>\n",
       "</table>\n",
       "<p>142 rows × 3 columns</p>\n",
       "</div>"
      ],
      "text/plain": [
       "      Año     Genero  Numero de peliculas\n",
       "0    1990     Action                   19\n",
       "1    1990  Adventure                    2\n",
       "2    1990  Animation                    2\n",
       "3    1990   Children                    1\n",
       "4    1990     Comedy                   15\n",
       "..    ...        ...                  ...\n",
       "137  2000      Drama                   36\n",
       "138  2000     Horror                    4\n",
       "139  2000    Romance                    1\n",
       "140  2000        Sci                    2\n",
       "141  2000   Thriller                    6\n",
       "\n",
       "[142 rows x 3 columns]"
      ]
     },
     "execution_count": 116,
     "metadata": {},
     "output_type": "execute_result"
    }
   ],
   "source": [
    "movies_año = movies_noventas.groupby(['Año', 'Genero'])['Nombre'].count().reset_index().rename(columns={'Nombre': 'Numero de peliculas'})\n",
    "movies_año"
   ]
  },
  {
   "cell_type": "markdown",
   "id": "fa74fdcb",
   "metadata": {},
   "source": [
    "## Ejercicio 3\n",
    "\n",
    "Muestra tu creatividad. ¿Qué crees relevante mostrar del Dataset 'movies.dat' del ejercicio anterior?\n",
    "\n",
    "Realiza una o dos representaciones gráficas y justifica tu elección."
   ]
  },
  {
   "cell_type": "code",
   "execution_count": 121,
   "id": "135d7989",
   "metadata": {},
   "outputs": [
    {
     "data": {
      "image/png": "[encoded data removed]",
      "text/plain": [
       "<Figure size 640x480 with 1 Axes>"
      ]
     },
     "metadata": {},
     "output_type": "display_data"
    }
   ],
   "source": [
    "sns.stripplot(x=movies[\"Año\"], orient='v', color='darkblue')\n",
    "plt.title('Películas Producidas por Año')\n",
    "plt.show()"
   ]
  },
  {
   "cell_type": "markdown",
   "id": "21b2ecf7",
   "metadata": {},
   "source": [
    "Esta representación gráfica de puntos muestra la cantidad de películas producidas en el período comprendido entre 1920 y 2000. Podemos observar un crecimiento gradual desde la década de los años cuarenta hasta finales de los setenta. A partir de los años ochenta, la producción de películas explotó y hubo un aumento exponencial que se mantuvo hasta el año 2000."
   ]
  },
  {
   "cell_type": "code",
   "execution_count": 66,
   "id": "31f98acc",
   "metadata": {},
   "outputs": [
    {
     "data": {
      "image/png": "[encoded data removed]",
      "text/plain": [
       "<Figure size 640x480 with 1 Axes>"
      ]
     },
     "metadata": {},
     "output_type": "display_data"
    }
   ],
   "source": [
    "sns.swarmplot(data=adventure, x=\"Año\", orient='v', color='purple')\n",
    "plt.title('Peliculas de Aventura por Año')\n",
    "plt.show()"
   ]
  },
  {
   "cell_type": "markdown",
   "id": "8c6d6e51",
   "metadata": {},
   "source": [
    "Esta visualización en forma de enjambre muestra el desarrollo de películas del género de aventura durante el periodo comprendido entre 1919 y 2000. Se aprecia una distribución positiva hacia la derecha, evidenciando un incremento gradual en la producción de películas de aventura hasta la década de los ochenta. A partir de mediados de la década de los noventa, se produjo una explosión en la creación de este tipo de películas."
   ]
  },
  {
   "cell_type": "code",
   "execution_count": 122,
   "id": "4d061231",
   "metadata": {},
   "outputs": [
    {
     "data": {
      "image/png": "[encoded data removed]",
      "text/plain": [
       "<Figure size 2000x800 with 1 Axes>"
      ]
     },
     "metadata": {},
     "output_type": "display_data"
    }
   ],
   "source": [
    "sns.set()\n",
    "plt.figure(figsize=(20, 8))\n",
    "ax = sns.barplot(x='Año', y='Numero de peliculas', hue='Genero', data=movies_año)\n",
    "ax.legend(loc='upper left') \n",
    "ax.set_xticklabels(ax.get_xticklabels(), rotation=90)\n",
    "plt.title('Peliculas por Año y Genero de 1990 a 2000')\n",
    "plt.show()"
   ]
  },
  {
   "cell_type": "markdown",
   "id": "91437358",
   "metadata": {},
   "source": [
    "Esta gráfica de barras muestra la producción de películas por género y año en el período que abarca desde 1990 hasta el año 2000. Se puede observar que el género de drama fue el más popular durante esta época, destacándose los años 1995, 1996 y 1998. En segundo lugar se encuentra el género de comedia, con más producciones en 1996, 1998 y 1999. En tercer lugar están las películas de musicales, con picos en 1995, 1997 y 1998. Es interesante ver que el género musical no tuvo producciones entre 1990 y 1992; sin embargo, en 1996 y 1997 tuvo sus mejores años con una decena de producciones."
   ]
  },
  {
   "cell_type": "markdown",
   "id": "a92eaeb8",
   "metadata": {},
   "source": [
    "# FIN"
   ]
  }
 ],
 "metadata": {
  "kernelspec": {
   "display_name": "Python 3 (ipykernel)",
   "language": "python",
   "name": "python3"
  },
  "language_info": {
   "codemirror_mode": {
    "name": "ipython",
    "version": 3
   },
   "file_extension": ".py",
   "mimetype": "text/x-python",
   "name": "python",
   "nbconvert_exporter": "python",
   "pygments_lexer": "ipython3",
   "version": "3.10.9"
  },
  "varInspector": {
   "cols": {
    "lenName": 16,
    "lenType": 16,
    "lenVar": 40
   },
   "kernels_config": {
    "python": {
     "delete_cmd_postfix": "",
     "delete_cmd_prefix": "del ",
     "library": "var_list.py",
     "varRefreshCmd": "print(var_dic_list())"
    },
    "r": {
     "delete_cmd_postfix": ") ",
     "delete_cmd_prefix": "rm(",
     "library": "var_list.r",
     "varRefreshCmd": "cat(var_dic_list()) "
    }
   },
   "types_to_exclude": [
    "module",
    "function",
    "builtin_function_or_method",
    "instance",
    "_Feature"
   ],
   "window_display": false
  }
 },
 "nbformat": 4,
 "nbformat_minor": 5
}
